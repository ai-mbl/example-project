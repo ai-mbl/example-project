{
 "cells": [
  {
   "cell_type": "markdown",
   "metadata": {},
   "source": [
    "# Goal\n",
    "\n",
    "Load some data and look at a few predictions from the classifier"
   ]
  },
  {
   "cell_type": "code",
   "execution_count": null,
   "metadata": {},
   "outputs": [],
   "source": [
    "# loading the data\n",
    "from classifier.data import ColoredMNIST\n",
    "\n",
    "mnist = ColoredMNIST(\"extras/data\", download=True)"
   ]
  },
  {
   "cell_type": "code",
   "execution_count": null,
   "metadata": {},
   "outputs": [],
   "source": [
    "import matplotlib.pyplot as plt\n",
    "\n",
    "# Show some examples\n",
    "fig, axs = plt.subplots(4, 4, figsize=(8, 8))\n",
    "for i, ax in enumerate(axs.flatten()):\n",
    "    x, y = mnist[i]\n",
    "    x = x.permute((1, 2, 0))  # make channels last\n",
    "    ax.imshow(x)\n",
    "    ax.set_title(f\"Class {y}\")\n",
    "    ax.axis(\"off\")"
   ]
  },
  {
   "cell_type": "code",
   "execution_count": null,
   "metadata": {},
   "outputs": [],
   "source": [
    "import torch\n",
    "from classifier.model import DenseModel\n",
    "\n",
    "device = torch.device(\"cuda\" if torch.cuda.is_available() else \"cpu\")\n",
    "\n",
    "\n",
    "# Load the model\n",
    "model = DenseModel(input_shape=(3, 28, 28), num_classes=4)\n",
    "# Load the checkpoint\n",
    "checkpoint = torch.load(\"extras/checkpoints/model.pth\")\n",
    "model.load_state_dict(checkpoint)\n",
    "model = model.to(device)"
   ]
  },
  {
   "cell_type": "code",
   "execution_count": null,
   "metadata": {},
   "outputs": [],
   "source": [
    "from torch.utils.data import DataLoader\n",
    "from sklearn.metrics import confusion_matrix\n",
    "import seaborn as sns\n",
    "\n",
    "test_mnist = ColoredMNIST(\"extras/data\", download=True, train=False)\n",
    "dataloader = DataLoader(test_mnist, batch_size=32, shuffle=False)\n",
    "\n",
    "labels = []\n",
    "predictions = []\n",
    "for x, y in dataloader:\n",
    "    pred = model(x.to(device))\n",
    "    labels.extend(y.cpu().numpy())\n",
    "    predictions.extend(pred.argmax(dim=1).cpu().numpy())\n",
    "\n",
    "cm = confusion_matrix(labels, predictions, normalize=\"true\")\n",
    "sns.heatmap(cm, annot=True, fmt=\".2f\")\n",
    "plt.ylabel(\"True\")\n",
    "plt.xlabel(\"Predicted\")\n",
    "plt.show()"
   ]
  }
 ],
 "metadata": {
  "language_info": {
   "name": "python"
  }
 },
 "nbformat": 4,
 "nbformat_minor": 2
}
